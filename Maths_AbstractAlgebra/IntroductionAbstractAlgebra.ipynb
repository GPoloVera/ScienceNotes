{
 "cells": [
  {
   "cell_type": "markdown",
   "metadata": {},
   "source": [
    "# Origins of Abstract/Modern Algebra"
   ]
  },
  {
   "cell_type": "markdown",
   "metadata": {},
   "source": [
    "The origins of Abstract/Modern Algebra can be considered that we due to several mathematicians but especially **Evariste Galois**. By the 1800s they were already known how to resolve general polynomial equations of **degree less than or equal to 4**\n",
    "* Linear equations: $ax + b = 0$\n",
    "* Quadratic equations: $ax^2 + bx + c = 0$\n",
    "* Cubic equations: $ax^3 + bx^2 + cx + d = 0$\n",
    "* Quartic equations: $ax^4 + bx^3 + cx^2 + dx + e = 0$\n",
    "\n",
    "In order to prove that there is no close solutions with just the coefficients for **equations of degree greater or equal to 5** Galois discovered what he called **Group** (currently they are called **Galois Group**).\n",
    "\n",
    "By that time, **Carl Friedrich Gauss** also discovered what is called **modular arithmetic** which he used to solve many problems in number theory. Modular arithmetic shared many similarities to the groups used by Galois.  \n",
    "\n",
    "Also by this time mathematicians began to realize there are other geometries beyond the ones devised by **Euclid**, let's say **Spherical and Hyperbolic** geometry (and in general thank to Gauss and Riemann the more general **differential geometry**). It did not take long to mathematicians to discover that groups is a useful tool in studying these new geometries\n",
    "\n",
    "<div>\n",
    "<img src=\"Images/Galois_Gauss_Geometries.PNG\" width=\"500\"/>\n",
    "</div>\n",
    "\n",
    "So, it can be say that after realizing that Groups could be used in many different and useful ways mathematicians **\"abstract out\"** the common features of this tools used by Galois, Gauss and other into a general tool to learn everything about so **Group Theory** was just born, being **the Group the first abstract object** where we are more interested in the relation/structure of the elements of a Set than of the actual elements of the set, the elements are now secondary, what is important is the structure - relations.\n",
    "\n",
    "After Groups were found so useful new abstract objects began to take shape like **rings, fields, modules, vector spaces**. The hardest part is to find the right definitions, so this abstract object are neither too specific nor too general."
   ]
  },
  {
   "cell_type": "markdown",
   "metadata": {},
   "source": []
  },
  {
   "cell_type": "markdown",
   "metadata": {},
   "source": []
  }
 ],
 "metadata": {
  "kernelspec": {
   "display_name": "Python 3",
   "language": "python",
   "name": "python3"
  },
  "language_info": {
   "codemirror_mode": {
    "name": "ipython",
    "version": 3
   },
   "file_extension": ".py",
   "mimetype": "text/x-python",
   "name": "python",
   "nbconvert_exporter": "python",
   "pygments_lexer": "ipython3",
   "version": "3.8.3"
  },
  "toc": {
   "base_numbering": 1,
   "nav_menu": {},
   "number_sections": true,
   "sideBar": true,
   "skip_h1_title": false,
   "title_cell": "Table of Contents",
   "title_sidebar": "Contents",
   "toc_cell": false,
   "toc_position": {},
   "toc_section_display": true,
   "toc_window_display": false
  }
 },
 "nbformat": 4,
 "nbformat_minor": 4
}